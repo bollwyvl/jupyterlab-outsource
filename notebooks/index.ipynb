{
 "cells": [
  {
   "cell_type": "markdown",
   "metadata": {},
   "source": [
    "# JupyterLab Outsource\n",
    "\n",
    "![](../docs/img/jupyterlab-outsource.png \"screenshot of JupyterLab rich text editing and visual programming\")\n",
    "\n",
    "This was written it in a **What You See Is What You Get** environment, powered by [Prosemirror](https://github.com/prosemirror/prosemirror).\n",
    "\n",
    "> *But I can also edit be edited in the notebook markdown cell easily, either in **Preview** or **Edit** mode*\n",
    "\n",
    "*In* JupyterLab, click the *Magic Wand* icon…"
   ]
  },
  {
   "cell_type": "code",
   "execution_count": 5,
   "metadata": {
    "jupyter": {
     "source_hidden": true
    }
   },
   "outputs": [
    {
     "data": {
      "text/html": [
       "<div class=\"jp-Toolbar-item\">\n",
       "    <div class=\"jp-Outsource-Picker jp-mod-styled\" \n",
       "    style=\"height: 24px; widget:24px; background-repeat: no-repeat\"></div>\n",
       "</div>\n"
      ],
      "text/plain": [
       "<IPython.core.display.HTML object>"
      ]
     },
     "metadata": {},
     "output_type": "display_data"
    }
   ],
   "source": [
    "%%html\n",
    "<div class=\"jp-Toolbar-item\">\n",
    "    <div class=\"jp-Outsource-Picker jp-mod-styled\" \n",
    "    style=\"height: 24px; widget:24px; background-repeat: no-repeat\"></div>\n",
    "</div>"
   ]
  },
  {
   "cell_type": "markdown",
   "metadata": {},
   "source": [
    "You can pick from… \n",
    "\n",
    "* *Prosemirror* \n",
    "\n",
    "* *Blockly*\n",
    "\n",
    "> *Suggest more input types [on Github](https://github.com/deathbeds/jupyterlab-outsource)!*"
   ]
  },
  {
   "cell_type": "markdown",
   "metadata": {},
   "source": [
    "# Blockly\n",
    "Blockly definitions, like which blocks and where to place them, are stored in the notebook cell metadata."
   ]
  },
  {
   "cell_type": "code",
   "execution_count": 17,
   "metadata": {
    "@deathbeds/jupyterlab-outsource:blockly": {
     "workspace": "<xml xmlns=\"http://www.w3.org/1999/xhtml\"><variables><variable type=\"\" id=\"%@_pVjU8snh0Gt+Bp%sl\">greeting</variable><variable type=\"\" id=\"B=xP-w)YMNPOx~O=}_[2\">planet</variable><variable type=\"\" id=\"Z3}q3T6,,a$pS^S/$d$y\">i</variable><variable type=\"\" id=\"vnHwRUOY1*FKhkwx/@j:\">j</variable></variables><block type=\"variables_set\" id=\"SL!?8}A6GP%`?HLsB|-t\" x=\"-193\" y=\"-26\"><field name=\"VAR\" id=\"%@_pVjU8snh0Gt+Bp%sl\" variabletype=\"\">greeting</field><value name=\"VALUE\"><block type=\"text\" id=\"PIdUc_]3L5;vcsEYLnlX\"><field name=\"TEXT\">hello</field></block></value><next><block type=\"variables_set\" id=\"yi=OP,qv-o($gV-mT*86\"><field name=\"VAR\" id=\"B=xP-w)YMNPOx~O=}_[2\" variabletype=\"\">planet</field><value name=\"VALUE\"><block type=\"text\" id=\"pzJO2.wiR,;EKH`z!=9w\"><field name=\"TEXT\">world</field></block></value><next><block type=\"controls_for\" id=\"g_%(]/l#u8`C1U]igo_8\"><field name=\"VAR\" id=\"Z3}q3T6,,a$pS^S/$d$y\" variabletype=\"\">i</field><value name=\"FROM\"><shadow type=\"math_number\" id=\"eL_AmRVNFP%iE/{4%c_%\"><field name=\"NUM\">0</field></shadow></value><value name=\"TO\"><shadow type=\"math_number\" id=\"[muRe-2ERMRU%:+ypp7]\"><field name=\"NUM\">10</field></shadow><block type=\"text_length\" id=\"1R*oHd##.H-UZc$K22s{\"><value name=\"VALUE\"><shadow type=\"text\" id=\"q]#Cl(pM$/|;%y+-4e++\"><field name=\"TEXT\">abc</field></shadow><block type=\"variables_get\" id=\"g+dCQU^{TI$TrlCha|Zu\"><field name=\"VAR\" id=\"%@_pVjU8snh0Gt+Bp%sl\" variabletype=\"\">greeting</field></block></value></block></value><value name=\"BY\"><shadow type=\"math_number\" id=\"B+`;!2Kd$sVc1/48T5y5\"><field name=\"NUM\">1</field></shadow></value><statement name=\"DO\"><block type=\"controls_for\" id=\"}2%Ylc}@paM7@AfQ%.Q[\"><field name=\"VAR\" id=\"vnHwRUOY1*FKhkwx/@j:\" variabletype=\"\">j</field><value name=\"FROM\"><shadow type=\"math_number\" id=\"H:8CYUz^;_478Dcm[oN#\"><field name=\"NUM\">0</field></shadow></value><value name=\"TO\"><shadow type=\"math_number\" id=\"[muRe-2ERMRU%:+ypp7]\"><field name=\"NUM\">10</field></shadow><block type=\"text_length\" id=\"9l!A%;[{vrp2sA#7!1ZZ\"><value name=\"VALUE\"><shadow type=\"text\" id=\"x^![WpQct:7(I)5Ls#Q{\"><field name=\"TEXT\">abc</field></shadow><block type=\"variables_get\" id=\"_N78j)Yzz}I_Cku{NC$]\"><field name=\"VAR\" id=\"B=xP-w)YMNPOx~O=}_[2\" variabletype=\"\">planet</field></block></value></block></value><value name=\"BY\"><shadow type=\"math_number\" id=\"ZmF}~iR_*_7VciKz!tOP\"><field name=\"NUM\">1</field></shadow></value><statement name=\"DO\"><block type=\"controls_if\" id=\"bW]Vhu`tqO[g6,@#K2~r\"><value name=\"IF0\"><block type=\"logic_compare\" id=\"N9b4d`-0XVYZO6Rm#6$i\"><field name=\"OP\">EQ</field><value name=\"A\"><block type=\"text_charAt\" id=\".]Y{s#]uK9!Zoij6tr`X\"><mutation at=\"true\"></mutation><field name=\"WHERE\">FROM_START</field><value name=\"VALUE\"><block type=\"variables_get\" id=\"/HYi0-s6sN0m0t6FO.UR\"><field name=\"VAR\" id=\"%@_pVjU8snh0Gt+Bp%sl\" variabletype=\"\">greeting</field></block></value><value name=\"AT\"><block type=\"variables_get\" id=\"q/SX#:NWn3^=06l~Nt~b\"><field name=\"VAR\" id=\"Z3}q3T6,,a$pS^S/$d$y\" variabletype=\"\">i</field></block></value></block></value><value name=\"B\"><block type=\"text_charAt\" id=\"4GkEQ!dR/E,,DX8UthB-\"><mutation at=\"true\"></mutation><field name=\"WHERE\">FROM_START</field><value name=\"VALUE\"><block type=\"variables_get\" id=\"6/|TB%H8K^(1S^FTAhJN\"><field name=\"VAR\" id=\"B=xP-w)YMNPOx~O=}_[2\" variabletype=\"\">planet</field></block></value><value name=\"AT\"><block type=\"variables_get\" id=\"1O(xXCOH9PCY}PkB(!NF\"><field name=\"VAR\" id=\"vnHwRUOY1*FKhkwx/@j:\" variabletype=\"\">j</field></block></value></block></value></block></value><statement name=\"DO0\"><block type=\"controls_flow_statements\" id=\"8f=^DT[Yd5rWD3{$d$s#\"><field name=\"FLOW\">BREAK</field></block></statement></block></statement></block></statement><next><block type=\"text_print\" id=\"N7c{6Mo}G!_HCYKZ7_h$\"><value name=\"TEXT\"><shadow type=\"text\" id=\"Ov7?jsC9Z799l4|3QT3h\"><field name=\"TEXT\">hello world</field></shadow><block type=\"text_join\" id=\"ALvUf~2l|+Us)EGd,s8j\"><mutation items=\"8\"></mutation><value name=\"ADD0\"><block type=\"text\" id=\"}-VLI-)b/=Ws)|H5O^~e\"><field name=\"TEXT\">letter </field></block></value><value name=\"ADD1\"><block type=\"variables_get\" id=\"H#:Rx|=0nL/-kRx%aX3G\"><field name=\"VAR\" id=\"Z3}q3T6,,a$pS^S/$d$y\" variabletype=\"\">i</field></block></value><value name=\"ADD2\"><block type=\"text\" id=\"h9kuhc}Hmr+s(fqC;pK_\"><field name=\"TEXT\"> in </field></block></value><value name=\"ADD3\"><block type=\"variables_get\" id=\"@$GI.I5L_Oe6qR$gcfk@\"><field name=\"VAR\" id=\"%@_pVjU8snh0Gt+Bp%sl\" variabletype=\"\">greeting</field></block></value><value name=\"ADD4\"><block type=\"text\" id=\"r)2.#_idxs=6t#r6DHu$\"><field name=\"TEXT\"> is the same as letter </field></block></value><value name=\"ADD5\"><block type=\"variables_get\" id=\"Q}C!0BfLN-ehJge#]WaK\"><field name=\"VAR\" id=\"vnHwRUOY1*FKhkwx/@j:\" variabletype=\"\">j</field></block></value><value name=\"ADD6\"><block type=\"text\" id=\"ZA{/y:YnM{do^Y!#s3v)\"><field name=\"TEXT\"> in </field></block></value><value name=\"ADD7\"><block type=\"variables_get\" id=\"uJt%yNF^R{y6{-9`Zm7V\"><field name=\"VAR\" id=\"B=xP-w)YMNPOx~O=}_[2\" variabletype=\"\">planet</field></block></value></block></value></block></next></block></next></block></next></block></xml>"
    }
   },
   "outputs": [
    {
     "name": "stdout",
     "output_type": "stream",
     "text": [
      "letter 5 in hello is the same as letter 2 in world\n"
     ]
    }
   ],
   "source": [
    "# start blockly\n",
    "greeting = None\n",
    "planet = None\n",
    "i = None\n",
    "j = None\n",
    "\n",
    "def upRange(start, stop, step):\n",
    "    while start <= stop:\n",
    "        yield start\n",
    "        start += abs(step)\n",
    "\n",
    "def downRange(start, stop, step):\n",
    "    while start >= stop:\n",
    "        yield start\n",
    "        start -= abs(step)\n",
    "\n",
    "\n",
    "greeting = 'hello'\n",
    "planet = 'world'\n",
    "i_end = float(len(greeting))\n",
    "for i in (0 <= i_end) and upRange(0, i_end, 1) or downRange(0, i_end, 1):\n",
    "    j_end = float(len(planet))\n",
    "    for j in (0 <= j_end) and upRange(0, j_end, 1) or downRange(0, j_end, 1):\n",
    "        if greeting[int(i - 1)] == planet[int(j - 1)]:\n",
    "            break\n",
    "print(''.join([str(x) for x in ['letter ', i, ' in ', greeting, ' is the same as letter ', j, ' in ', planet]]))\n",
    "# end blockly"
   ]
  }
 ],
 "metadata": {
  "kernelspec": {
   "display_name": "Python 3",
   "language": "python",
   "name": "python3"
  },
  "language_info": {
   "codemirror_mode": {
    "name": "ipython",
    "version": 3
   },
   "file_extension": ".py",
   "mimetype": "text/x-python",
   "name": "python",
   "nbconvert_exporter": "python",
   "pygments_lexer": "ipython3",
   "version": "3.7.3"
  }
 },
 "nbformat": 4,
 "nbformat_minor": 4
}
