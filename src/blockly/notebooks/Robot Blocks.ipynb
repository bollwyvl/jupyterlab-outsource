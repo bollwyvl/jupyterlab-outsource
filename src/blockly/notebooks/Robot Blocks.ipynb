{
 "cells": [
  {
   "cell_type": "markdown",
   "metadata": {},
   "source": [
    "# Generating [Robot][] Blocks for [Blockly][]\n",
    "\n",
    "WHile Robot Frameworks's natural language approach to writing code is very approachable, it still suffers from a _discoverability_ problem, where a user _doesn't know what they don't know_:\n",
    "\n",
    "> _What's a keyword? A Test Case? A Test Suite? A Variable?_\n",
    "\n",
    "> _What settings can I use and where?_\n",
    "\n",
    "> _What are the arguments to a keyword, and what do they mean?_\n",
    "\n",
    "> _How do I run these things?_\n",
    "\n",
    "Blockly provides some answers in the form of _blocks_ which a user can **directly manipulate** to generate new programs, data or other procedural structures.\n",
    "\n",
    "While the first two questions require special handling to generate valid syntax, Robot's [libdoc][] provides a wealth of information about the Hard Part, which is the discovery of keywords.\n",
    "\n",
    "Further, JupyterLab and `robotkernel` close the loop, and allow for introspection and execution, as well as handling file saving.\n",
    "\n",
    "\n",
    "[robot]: https://github.com/robotframework/robotframework\n",
    "[blockly]: http://github.com/blockly/blockly\n",
    "[libdoc]: https://github.com/robotframework/robotframework/blob/master/src/robot/libdocpkg/builder.py#L34"
   ]
  },
  {
   "cell_type": "code",
   "execution_count": null,
   "metadata": {},
   "outputs": [],
   "source": [
    "from stringcase import snakecase\n",
    "from urllib.parse import quote\n",
    "from pathlib import Path\n",
    "import json\n",
    "from xml.etree import ElementTree as et\n",
    "from robot.libdocpkg import LibraryDocumentation"
   ]
  },
  {
   "cell_type": "markdown",
   "metadata": {},
   "source": [
    "Initially, let's use Robot's rich standard library to populate some keywords."
   ]
  },
  {
   "cell_type": "code",
   "execution_count": null,
   "metadata": {},
   "outputs": [],
   "source": [
    "from robot.libraries import STDLIBS"
   ]
  },
  {
   "cell_type": "code",
   "execution_count": null,
   "metadata": {},
   "outputs": [],
   "source": [
    "HERE = Path(\".\")\n",
    "BLOCKS = (HERE / \"..\" / \"blocks\")\n",
    "TOOLBOX = (HERE / \"..\" / \"xml\")\n",
    "\n",
    "(BLOCKS / \"robot\").mkdir(exist_ok=True, parents=True)"
   ]
  },
  {
   "cell_type": "markdown",
   "metadata": {},
   "source": [
    "We'll be looking at both **Library** documentation:"
   ]
  },
  {
   "cell_type": "code",
   "execution_count": null,
   "metadata": {},
   "outputs": [],
   "source": [
    "libdoc = LibraryDocumentation(\"BuiltIn\")\n",
    "libdoc"
   ]
  },
  {
   "cell_type": "markdown",
   "metadata": {},
   "source": [
    "...as well as **Keyword** documentation:"
   ]
  },
  {
   "cell_type": "code",
   "execution_count": null,
   "metadata": {},
   "outputs": [],
   "source": [
    "kwdoc = libdoc.keywords[0]\n",
    "kwdoc"
   ]
  },
  {
   "cell_type": "markdown",
   "metadata": {},
   "source": [
    "## What is a _&lt;Insert Robot Thing Here>_?\n",
    "To show a concept to a user in Blockly, we'll build a **Toolbox**, which is just a (sigh) XML tree.\n",
    "Moving a little fast and loose, we'll reuse an existing Toolbox which includes all of the most-commonly implemented blocks. Some of these will not be easy (or desirable) to implement in robot, but that's for another day.\n",
    "\n",
    "While blockly can generate lots of languages, the reference UI implementation is implemented in JavaScript. Since we'd like this to be as data-driven as possible, we'll be exploring ways to encode critical information about blocks and their language-specific implementation by other means."
   ]
  },
  {
   "cell_type": "code",
   "execution_count": null,
   "metadata": {},
   "outputs": [],
   "source": [
    "all_blocks = {}"
   ]
  },
  {
   "cell_type": "code",
   "execution_count": null,
   "metadata": {},
   "outputs": [],
   "source": [
    "toolbox = et.parse(str(TOOLBOX / \"toolbox.xml\")).getroot()"
   ]
  },
  {
   "cell_type": "markdown",
   "metadata": {},
   "source": [
    "Our initial categories will be concerned with core language semantics. Behold, the python standardlib xml library (bleah)."
   ]
  },
  {
   "cell_type": "code",
   "execution_count": null,
   "metadata": {},
   "outputs": [],
   "source": [
    "def eb(tag, parent=None, **attrib):\n",
    "    el = et.Element(tag)\n",
    "    el.attrib.update(attrib)\n",
    "    if parent is not None:\n",
    "        parent.append(el)\n",
    "    return el"
   ]
  },
  {
   "cell_type": "code",
   "execution_count": null,
   "metadata": {},
   "outputs": [],
   "source": [
    "tool_cat = eb('category', toolbox, name='Robot')\n",
    "cat_blocks = all_blocks[\"Robot\"] = dict()"
   ]
  },
  {
   "cell_type": "markdown",
   "metadata": {},
   "source": [
    "### The Test Case block\n",
    "While the new-fangled _Robot Process Automation_ will introduce **Tasks**, most existing Robot scripts are all about **Test Cases**. A _normal_ test case consists of:\n",
    "- A (unique within a suite) name\n",
    "- Some **Test Case Setting**s\n",
    "- Some **Keyword**s\n",
    "- One or more **Variable Assignment**s\n",
    "\n",
    "The data structure for defining a block is... idiomatic. The [Block Factory](https://blockly-demo.appspot.com/static/demos/blockfactory) makes it slightly more bearable to build block definitions... but we're going to have to get a lot more automated to document the 300+ standard library keywords!"
   ]
  },
  {
   "cell_type": "code",
   "execution_count": null,
   "metadata": {},
   "outputs": [],
   "source": [
    "def make_shadow_value(tool_block, name, default):\n",
    "    value = eb(\"value\", tool_block, name=name)\n",
    "    shadow = eb(\"shadow\", value, type=\"text\")\n",
    "    field = eb(\"field\", shadow, name=\"TEXT\")\n",
    "    field.text = default"
   ]
  },
  {
   "cell_type": "code",
   "execution_count": null,
   "metadata": {},
   "outputs": [],
   "source": [
    "def make_table_block(name, tooltip, shadow_name=True, **block):\n",
    "    block_type = f\"robot___{snakecase(name)}\"\n",
    "    tool_block = eb(\"block\", tool_cat, type=block_type)\n",
    "    _block = {\n",
    "      \"type\": block_type,\n",
    "      \"message0\": f\"{name} %1{' %2' if shadow_name else ''}\",\n",
    "      \"args0\": [\n",
    "        {\"type\": \"input_value\", \"name\": \"NAME\", \"check\": \"String\"},\n",
    "        {\"type\": \"input_statement\", \"name\": \"ROWS\", \"check\": None}\n",
    "      ],\n",
    "      \"tooltip\": tooltip\n",
    "    }\n",
    "    \n",
    "    if shadow_name:\n",
    "        make_shadow_value(tool_block, \"NAME\", f\"An Untitled {name}\")\n",
    "\n",
    "    if block:\n",
    "        _block.update(**block)\n",
    "\n",
    "    cat_blocks[block_type] = dict(\n",
    "        name=name,\n",
    "        args=[],\n",
    "        block=_block,\n",
    "    )"
   ]
  },
  {
   "cell_type": "code",
   "execution_count": null,
   "metadata": {},
   "outputs": [],
   "source": [
    "make_table_block(\"Settings\", \"Things about all the tests\",\n",
    "    shadow_name=False,\n",
    "    args0=[{\"type\": \"input_statement\", \"name\": \"ROWS\", \"check\": None}],\n",
    ")\n",
    "make_table_block(\"Test Case\", \"A thing you want to test\")\n",
    "make_table_block(\"Keyword\", \"A task a Robot can perform\")"
   ]
  },
  {
   "cell_type": "markdown",
   "metadata": {},
   "source": [
    "Settings are (mostly) consistent."
   ]
  },
  {
   "cell_type": "code",
   "execution_count": null,
   "metadata": {},
   "outputs": [],
   "source": [
    "def make_setting_block(name):\n",
    "    \"\"\" this needs a lot of work: scopes, typing (some accept keywords, lists)\n",
    "    \"\"\"\n",
    "    block_type = f\"robot___setting___{snakecase(name)}\"\n",
    "    tool_block = eb(\"block\", tool_cat, type=block_type)\n",
    "    _block = {\n",
    "        \"type\": block_type,\n",
    "        \"message0\": f\"{name} %1\",\n",
    "        \"args0\": [\n",
    "            {\"type\": \"input_value\", \"name\": \"VALUE\", \"check\": None},\n",
    "        ],\n",
    "        \"nextStatement\": None,\n",
    "        \"previousStatement\": None,\n",
    "    }\n",
    "\n",
    "    cat_blocks[block_type] = dict(\n",
    "        name=name,\n",
    "        args=[],\n",
    "        block=_block,\n",
    "    )"
   ]
  },
  {
   "cell_type": "code",
   "execution_count": null,
   "metadata": {},
   "outputs": [],
   "source": [
    "list(map(make_setting_block, [\n",
    "    \"Documentation\", \n",
    "    \"Arguments\", \n",
    "    \"Return\", \n",
    "    \"Setup\",\n",
    "    \"Teardown\", \n",
    "    \"Suite Setup\",\n",
    "    \"Suite Teardown\",\n",
    "    \"Test Setup\",\n",
    "    \"Test Teardown\",\n",
    "    \"Test Timeout\",\n",
    "    \"Library\",\n",
    "    \"Resource\",\n",
    "    \"Variables\",\n",
    "    \"Metadata\",\n",
    "    \"Template\",\n",
    "    \"Test Template\"\n",
    "    \"Tags\",\n",
    "    \"Force Tags\",\n",
    "    \"Default Tags\"\n",
    "]))"
   ]
  },
  {
   "cell_type": "code",
   "execution_count": null,
   "metadata": {},
   "outputs": [],
   "source": [
    "def make_lib_blocks(libdoc, toolbox, all_blocks):\n",
    "    tool_cat = eb('category', toolbox, name=libdoc.name)\n",
    "\n",
    "    snake_name = snakecase(lib_name)\n",
    "    lib_blocks = all_blocks[lib_name] = {}\n",
    "    \n",
    "    for kwdoc in sorted(libdoc.keywords, key=lambda k: k.name):\n",
    "        make_keyword_block(kwdoc, snake_name, tool_cat, lib_blocks)"
   ]
  },
  {
   "cell_type": "code",
   "execution_count": null,
   "metadata": {},
   "outputs": [],
   "source": [
    "def make_keyword_block(kwdoc, snake_name, tool_cat, lib_blocks):\n",
    "    block_type = f\"robot_{snake_name}___{snakecase(kwdoc.name)}\"\n",
    "\n",
    "    tool_block = eb(\"block\", tool_cat, type=block_type)\n",
    "\n",
    "    block = dict(\n",
    "        tooltip=kwdoc.shortdoc,\n",
    "        helpUrl=f\"http://robotframework.org/robotframework/latest/libraries/{lib_name}.html#{quote(kwdoc.name)}\",\n",
    "        type=block_type,\n",
    "        message0=f\"{kwdoc.name} %1\",\n",
    "        args0=[{\"type\": \"input_dummy\"}],\n",
    "        nextStatement=None,\n",
    "        previousStatement=None,\n",
    "        output='Keyword',\n",
    "    )\n",
    "\n",
    "    args = []\n",
    "    for i, arg in enumerate(kwdoc.args):\n",
    "        if \"*\" in arg: continue\n",
    "        if \"=\" in arg:\n",
    "            arg, value = arg.split(\"=\")\n",
    "            make_shadow_value(tool_block, arg, value)\n",
    "\n",
    "        block.update({\n",
    "            f\"message{i + 1}\": f\"{arg} %1\",\n",
    "            f\"args{i + 1}\": [{\n",
    "                \"type\": \"input_value\",\n",
    "                \"name\": arg\n",
    "            }]\n",
    "        })\n",
    "        args.append(arg)\n",
    "\n",
    "    lib_blocks[block_type] = dict(\n",
    "        name=kwdoc.name,\n",
    "        block=block,\n",
    "        args=args,\n",
    "        template=f\"\"\"    {kwdoc.name}\"\"\",\n",
    "    )"
   ]
  },
  {
   "cell_type": "code",
   "execution_count": null,
   "metadata": {},
   "outputs": [],
   "source": [
    "for lib_name in sorted(STDLIBS):\n",
    "    try: libdoc = LibraryDocumentation(lib_name)\n",
    "    except: continue\n",
    "    make_lib_blocks(libdoc, toolbox, all_blocks)"
   ]
  },
  {
   "cell_type": "code",
   "execution_count": null,
   "metadata": {},
   "outputs": [],
   "source": [
    "(BLOCKS / \"robot\" / \"stdlibs.json\").write_text(json.dumps(all_blocks, indent=2, sort_keys=True))\n",
    "(TOOLBOX / \"robot.xml\").write_bytes(et.tostring(toolbox))"
   ]
  },
  {
   "cell_type": "code",
   "execution_count": null,
   "metadata": {},
   "outputs": [],
   "source": []
  }
 ],
 "metadata": {
  "kernelspec": {
   "display_name": "Python 3",
   "language": "python",
   "name": "python3"
  },
  "language_info": {
   "codemirror_mode": {
    "name": "ipython",
    "version": 3
   },
   "file_extension": ".py",
   "mimetype": "text/x-python",
   "name": "python",
   "nbconvert_exporter": "python",
   "pygments_lexer": "ipython3",
   "version": "3.6.7"
  }
 },
 "nbformat": 4,
 "nbformat_minor": 2
}
