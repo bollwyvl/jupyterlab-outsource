{
 "cells": [
  {
   "cell_type": "code",
   "execution_count": 1,
   "metadata": {},
   "outputs": [],
   "source": [
    "from stringcase import snakecase\n",
    "from urllib.parse import quote\n",
    "from pathlib import Path\n",
    "import json\n",
    "from xml.etree import ElementTree"
   ]
  },
  {
   "cell_type": "code",
   "execution_count": 2,
   "metadata": {},
   "outputs": [],
   "source": [
    "from robot.libdocpkg import LibraryDocumentation\n",
    "from robot.libraries import STDLIBS"
   ]
  },
  {
   "cell_type": "code",
   "execution_count": 3,
   "metadata": {},
   "outputs": [],
   "source": [
    "HERE = Path(\".\")\n",
    "BLOCKS = (HERE / \"..\" / \"blocks\")\n",
    "TOOLBOX = (HERE / \"..\" / \"xml\")"
   ]
  },
  {
   "cell_type": "code",
   "execution_count": 4,
   "metadata": {},
   "outputs": [],
   "source": [
    "libdoc = LibraryDocumentation(\"BuiltIn\")\n",
    "kwdoc = libdoc.keywords[0]"
   ]
  },
  {
   "cell_type": "code",
   "execution_count": 5,
   "metadata": {},
   "outputs": [],
   "source": [
    "all_blocks = {}\n",
    "toolbox = ElementTree.parse(str(TOOLBOX / \"toolbox.xml\")).getroot()"
   ]
  },
  {
   "cell_type": "code",
   "execution_count": 6,
   "metadata": {},
   "outputs": [],
   "source": [
    "tool_cat = ElementTree.Element('category')\n",
    "tool_cat.attrib['name'] = 'Robot'\n",
    "toolbox.append(tool_cat)\n",
    "tool_block = ElementTree.Element(\"block\")\n",
    "tool_block.attrib[\"type\"] = \"robot___test_case\"\n",
    "tool_cat.append(tool_block)"
   ]
  },
  {
   "cell_type": "code",
   "execution_count": 7,
   "metadata": {},
   "outputs": [],
   "source": [
    "all_blocks[\"Robot\"] = dict(\n",
    "    robot___test_case=dict(\n",
    "        name=\"Test Case\",\n",
    "        args=[],\n",
    "        block=dict(\n",
    "            type=\"robot___test_case\",\n",
    "            message0=f\"Test Case %1\",\n",
    "            args0=[{\"type\": \"input_dummy\"}],\n",
    "            nextStatement=True,\n",
    "            previousStatement=True,\n",
    "        )\n",
    "    )\n",
    ")"
   ]
  },
  {
   "cell_type": "code",
   "execution_count": 8,
   "metadata": {},
   "outputs": [
    {
     "data": {
      "text/plain": [
       "26619"
      ]
     },
     "execution_count": 8,
     "metadata": {},
     "output_type": "execute_result"
    }
   ],
   "source": [
    "for lib_name in STDLIBS:\n",
    "    try: libdoc = LibraryDocumentation(lib_name)\n",
    "    except: continue\n",
    "   \n",
    "    tool_cat = ElementTree.Element('category')\n",
    "    tool_cat.attrib['name'] = lib_name\n",
    "    toolbox.append(tool_cat)\n",
    "\n",
    "    snake_name = snakecase(lib_name)\n",
    "    lib_blocks = all_blocks[lib_name] = {}\n",
    "    for kwdoc in libdoc.keywords:\n",
    "        name = f\"robot_{snake_name}___{snakecase(kwdoc.name)}\"\n",
    " \n",
    "        block = dict(\n",
    "            tooltip=kwdoc.shortdoc,\n",
    "            helpUrl=f\"http://robotframework.org/robotframework/latest/libraries/{lib_name}.html#{quote(kwdoc.name)}\",\n",
    "            type=name,\n",
    "            message0=f\"{kwdoc.name} %1\",\n",
    "            args0=[{\"type\": \"input_dummy\"}],\n",
    "            nextStatement=True,\n",
    "            previousStatement=True,\n",
    "            output='String',\n",
    "        )\n",
    "\n",
    "        \n",
    "        for i, arg in enumerate(kwdoc.args):\n",
    "            if \"*\" in arg: continue\n",
    "            block.update({\n",
    "                f\"message{i + 1}\": f\"{arg} %1\",\n",
    "                f\"args{i + 1}\": [{\n",
    "                    \"type\": \"input_value\",\n",
    "                    \"name\": arg.split(\"=\")[0]\n",
    "                }]\n",
    "            })\n",
    "        \n",
    "        lib_blocks[name] = dict(\n",
    "            name=kwdoc.name,\n",
    "            block=block,\n",
    "            args=[\n",
    "                a.split(\"=\")[0] for a in kwdoc.args\n",
    "                if \"*\" not in a\n",
    "            ],\n",
    "            template=f\"\"\"    {kwdoc.name}\"\"\",\n",
    "        )\n",
    "        tool_block = ElementTree.Element(\"block\")\n",
    "        tool_block.attrib[\"type\"] = name\n",
    "        tool_cat.append(tool_block)\n",
    "        \n",
    "        \n",
    "(BLOCKS / \"robot\" / \"stdlibs.json\").write_text(json.dumps(all_blocks, indent=2, sort_keys=True))\n",
    "(TOOLBOX / \"robot.xml\").write_bytes(ElementTree.tostring(toolbox))"
   ]
  }
 ],
 "metadata": {
  "kernelspec": {
   "display_name": "Python 3",
   "language": "python",
   "name": "python3"
  },
  "language_info": {
   "codemirror_mode": {
    "name": "ipython",
    "version": 3
   },
   "file_extension": ".py",
   "mimetype": "text/x-python",
   "name": "python",
   "nbconvert_exporter": "python",
   "pygments_lexer": "ipython3",
   "version": "3.6.6"
  }
 },
 "nbformat": 4,
 "nbformat_minor": 2
}
